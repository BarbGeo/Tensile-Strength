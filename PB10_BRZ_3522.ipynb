{
 "cells": [
  {
   "cell_type": "code",
   "execution_count": 5,
   "metadata": {},
   "outputs": [],
   "source": [
    "import matplotlib.pyplot as plt\n",
    "from matplotlib import rcParams\n",
    "import pandas as pd\n",
    "import numpy as np\n",
    "import seaborn as sns\n",
    "import plotly.express as px\n",
    "import plotly.graph_objects as go\n",
    "from scipy.stats import linregress\n",
    "from scipy.signal import butter,filtfilt, find_peaks"
   ]
  },
  {
   "cell_type": "code",
   "execution_count": 6,
   "metadata": {},
   "outputs": [],
   "source": [
    "df_exp_PB = pd.read_csv('PB10_BRZ_3522.csv')\n",
    "\n",
    "# Filter the data, and plot both the original and filtered signals.\n",
    "stress = df_exp_PB['Load 50 kN_Filtered']             # Stress\n",
    "strain = df_exp_PB['Avg_LVDT']            # Strain\n",
    "\n",
    "\n",
    "# Plot maximum strength\n",
    "y = stress.max()                                                                               # Find maximum stress\n",
    "max_index = stress.argmax()\n",
    "# print(max_index)                                                                             # 2357 is the index of the maximum value\n",
    "x = strain[max_index]                                                                          # Apply the maximum index of the stress to the strain\n",
    "\n",
    "\n",
    "index_min = stress[stress > 0.003].index[0]\n",
    "df_exp_PB_short = df_exp_PB.iloc[index_min : max_index+100]\n",
    "\n",
    "stress = df_exp_PB_short['Load 50 kN_Filtered']\n",
    "\n",
    "strain = df_exp_PB_short['Avg_LVDT']\n",
    "\n",
    "\n",
    "\n",
    "stress1 = stress.to_numpy()\n",
    "\n",
    "strain1 = strain.to_numpy()"
   ]
  },
  {
   "cell_type": "code",
   "execution_count": 7,
   "metadata": {},
   "outputs": [
    {
     "name": "stdout",
     "output_type": "stream",
     "text": [
      "The tensile strength is 0.47 MPa or 468.48 kPa\n"
     ]
    }
   ],
   "source": [
    "diameter = 29.68/1000                          # m\n",
    "length = 14.55/1000                            # m\n",
    "\n",
    "\n",
    "tensile = 0.636 * (y*1000/diameter * length)\n",
    "# print(tensile)\n",
    "\n",
    "TensileS = f'The tensile strength is {round(tensile/1000,2)} MPa or {round(tensile,2)} kPa'\n",
    "print(TensileS)"
   ]
  },
  {
   "cell_type": "code",
   "execution_count": 10,
   "metadata": {},
   "outputs": [
    {
     "data": {
      "application/vnd.plotly.v1+json": {
       "config": {
        "plotlyServerURL": "https://plot.ly"
       },
       "data": [
        {
         "type": "scatter",
         "x": [
          0.3426595,
          0.342801,
          0.34306,
          0.3430275,
          0.3427785,
          0.3428335,
          0.3431175,
          0.343182,
          0.342866,
          0.342762,
          0.343118,
          0.3433055,
          0.3430125,
          0.3427625,
          0.3428945,
          0.343196,
          0.3431115,
          0.3427875,
          0.342777,
          0.342982,
          0.34296,
          0.3428635,
          0.342785,
          0.342682,
          0.342706,
          0.342914,
          0.3430085,
          0.3429135,
          0.342843,
          0.3429645,
          0.3430565,
          0.3428435,
          0.3428045,
          0.343126,
          0.3432185,
          0.342878,
          0.3426595,
          0.34293,
          0.3432485,
          0.3431045,
          0.3428545,
          0.342877,
          0.3431235,
          0.3432785,
          0.343005,
          0.342767,
          0.3429665,
          0.343107,
          0.3429485,
          0.342829,
          0.3429505,
          0.3430645,
          0.34289,
          0.342687,
          0.3428375,
          0.3430835,
          0.3429815,
          0.342785,
          0.342961,
          0.343264,
          0.3432235,
          0.3430985,
          0.343076,
          0.3430715,
          0.3430735,
          0.3430715,
          0.3430755,
          0.343073,
          0.3430745,
          0.3430745,
          0.3430755,
          0.343073,
          0.343079,
          0.3430755,
          0.3430745,
          0.34308,
          0.343081,
          0.343083,
          0.3430815,
          0.343083,
          0.3430855,
          0.3430815,
          0.3430815,
          0.3430825,
          0.3430815,
          0.3430855,
          0.343084,
          0.3430825,
          0.3430805,
          0.343083,
          0.343081,
          0.343082,
          0.343081,
          0.3430795,
          0.34308,
          0.3430835,
          0.343085,
          0.3430865,
          0.3430865,
          0.343084,
          0.3430825,
          0.343086,
          0.3430805,
          0.3430785,
          0.34308,
          0.3430795,
          0.3430795,
          0.3430815,
          0.3430795,
          0.3430825,
          0.343084,
          0.34309,
          0.3430865,
          0.3430855,
          0.3430865,
          0.3430855,
          0.3430875,
          0.3430905,
          0.3430895,
          0.343088,
          0.343086,
          0.343087,
          0.3430865,
          0.3430865,
          0.343086,
          0.343089,
          0.3430895,
          0.343087,
          0.343089,
          0.3430915,
          0.3430905,
          0.343088,
          0.34309,
          0.3430875,
          0.343087,
          0.343092,
          0.343089,
          0.343085,
          0.3430835,
          0.3430885,
          0.3430955,
          0.343093,
          0.343093,
          0.343089,
          0.3430845,
          0.3430845,
          0.343087,
          0.343095,
          0.3430935,
          0.3430885,
          0.3430885,
          0.343092,
          0.3430925,
          0.3430895,
          0.343094,
          0.34309,
          0.343085,
          0.343085,
          0.3430905,
          0.3430925,
          0.343098,
          0.343101,
          0.343095,
          0.3430995,
          0.343098,
          0.343091,
          0.34309,
          0.343093,
          0.3430945,
          0.343096,
          0.3430935,
          0.343094,
          0.343093,
          0.343094,
          0.3430905,
          0.343087,
          0.3430835,
          0.343081,
          0.3430825,
          0.3430845,
          0.343091,
          0.3430925,
          0.343091,
          0.3430905,
          0.3430875,
          0.3430895,
          0.3430925,
          0.3430935,
          0.3430865,
          0.343086,
          0.34309,
          0.34309,
          0.3430895,
          0.3430885,
          0.3430875,
          0.3430845,
          0.3430845,
          0.3430885,
          0.343088,
          0.343087,
          0.343093,
          0.3430915,
          0.3430905,
          0.3430905,
          0.3430845,
          0.3430795,
          0.3430785,
          0.343081,
          0.3430825,
          0.343086,
          0.3430865,
          0.3430855,
          0.343091,
          0.3430925,
          0.3430865,
          0.3430865,
          0.343089,
          0.343087,
          0.3430875,
          0.3430895,
          0.343091,
          0.343093,
          0.343093,
          0.3430895,
          0.3431535,
          0.345152,
          0.349501,
          0.3544425,
          0.3594405,
          0.3644605,
          0.36947,
          0.3744965,
          0.379498,
          0.38452,
          0.389529,
          0.394552,
          0.399554,
          0.404584,
          0.409588,
          0.414597,
          0.4195755,
          0.4246015,
          0.429592,
          0.43461,
          0.4396265,
          0.4446475,
          0.4496485,
          0.454667,
          0.458379,
          0.459382,
          0.459519,
          0.4595345,
          0.4595365,
          0.4595365,
          0.4595335,
          0.459527,
          0.459525,
          0.459524,
          0.459525,
          0.4595195,
          0.4595135,
          0.4595115,
          0.4595155,
          0.4595195,
          0.4595215,
          0.459518,
          0.459512,
          0.459508,
          0.4595035,
          0.4595035,
          0.4595015,
          0.459502,
          0.459506,
          0.459503,
          0.459501,
          0.459499,
          0.4594935,
          0.459493,
          0.4594945,
          0.459498,
          0.459499,
          0.4594935,
          0.459494,
          0.459497,
          0.4594925,
          0.45949,
          0.459488,
          0.4594845,
          0.4594815,
          0.4594855,
          0.459484,
          0.4594815,
          0.4594765,
          0.4594725,
          0.459473,
          0.459473,
          0.459472,
          0.4594705,
          0.4596245,
          0.4621255,
          0.466645,
          0.4716135,
          0.4765915,
          0.481623,
          0.486609,
          0.491621,
          0.496625,
          0.5016635,
          0.506659,
          0.511673,
          0.516668,
          0.5216895,
          0.526682,
          0.531709,
          0.5367125,
          0.541731,
          0.546649,
          0.549515,
          0.550129,
          0.5502055,
          0.5502125,
          0.55021,
          0.550209,
          0.5502065,
          0.550206,
          0.5501995,
          0.5501955,
          0.550192,
          0.550188,
          0.5501865,
          0.5501845,
          0.5501835,
          0.5501825,
          0.5501805,
          0.55018,
          0.55018,
          0.5501785
         ],
         "y": [
          0.285512,
          0.288956,
          0.295384,
          0.295185,
          0.289081,
          0.290146,
          0.297439,
          0.299658,
          0.291714,
          0.288228,
          0.296435,
          0.301827,
          0.294802,
          0.288449,
          0.290914,
          0.298619,
          0.297448,
          0.289376,
          0.288485,
          0.293826,
          0.293283,
          0.290772,
          0.288745,
          0.286459,
          0.2867,
          0.292092,
          0.294702,
          0.292166,
          0.290303,
          0.292836,
          0.295636,
          0.29055,
          0.288561,
          0.29678,
          0.299767,
          0.291692,
          0.285939,
          0.291871,
          0.300327,
          0.29717,
          0.290303,
          0.290373,
          0.296654,
          0.300842,
          0.294372,
          0.287813,
          0.292351,
          0.296115,
          0.292648,
          0.289361,
          0.291927,
          0.295119,
          0.291442,
          0.286404,
          0.289415,
          0.295873,
          0.293799,
          0.288882,
          0.292412,
          0.299994,
          0.299435,
          0.295925,
          0.295196,
          0.294881,
          0.295155,
          0.295198,
          0.295344,
          0.295295,
          0.295138,
          0.294778,
          0.294927,
          0.29518,
          0.295696,
          0.29571,
          0.295623,
          0.295723,
          0.295774,
          0.295967,
          0.295534,
          0.295577,
          0.295578,
          0.295952,
          0.295501,
          0.295593,
          0.295907,
          0.296411,
          0.296113,
          0.295783,
          0.295454,
          0.295467,
          0.295635,
          0.295689,
          0.295793,
          0.295954,
          0.2958,
          0.295663,
          0.295643,
          0.295839,
          0.295812,
          0.295687,
          0.295815,
          0.296242,
          0.295741,
          0.29529,
          0.295562,
          0.295493,
          0.295543,
          0.295375,
          0.295163,
          0.295158,
          0.295133,
          0.295515,
          0.295647,
          0.295852,
          0.296338,
          0.296424,
          0.296222,
          0.296432,
          0.296018,
          0.295927,
          0.295653,
          0.295337,
          0.295869,
          0.296063,
          0.295899,
          0.295778,
          0.295634,
          0.295935,
          0.29554,
          0.295494,
          0.295643,
          0.295663,
          0.295368,
          0.295539,
          0.295866,
          0.296386,
          0.296612,
          0.296006,
          0.295734,
          0.295547,
          0.296153,
          0.296428,
          0.296654,
          0.296384,
          0.295689,
          0.296147,
          0.29608,
          0.296303,
          0.296153,
          0.296199,
          0.296382,
          0.296417,
          0.296606,
          0.296504,
          0.296032,
          0.295878,
          0.295541,
          0.295724,
          0.296099,
          0.296066,
          0.296504,
          0.296468,
          0.296393,
          0.296401,
          0.296238,
          0.295492,
          0.29525,
          0.295061,
          0.295461,
          0.295975,
          0.295996,
          0.295964,
          0.295893,
          0.296454,
          0.296312,
          0.296058,
          0.295553,
          0.295233,
          0.295368,
          0.295755,
          0.296007,
          0.295999,
          0.295804,
          0.295827,
          0.295654,
          0.295935,
          0.295874,
          0.295665,
          0.295494,
          0.296187,
          0.29572,
          0.295488,
          0.296106,
          0.296294,
          0.29595,
          0.295572,
          0.295518,
          0.295624,
          0.295809,
          0.295465,
          0.295691,
          0.295872,
          0.295827,
          0.295779,
          0.295449,
          0.295216,
          0.295185,
          0.295284,
          0.29525,
          0.295634,
          0.295749,
          0.295744,
          0.295572,
          0.295585,
          0.295405,
          0.295356,
          0.295311,
          0.295251,
          0.295072,
          0.294908,
          0.295257,
          0.295552,
          0.295609,
          0.295496,
          0.296419,
          0.338124,
          0.426169,
          0.52202,
          0.622279,
          0.728526,
          0.840349,
          0.955467,
          1.072511,
          1.190898,
          1.306281,
          1.410943,
          1.481086,
          1.502555,
          1.478585,
          1.407706,
          1.321631,
          1.292218,
          1.28569,
          1.300682,
          1.325645,
          1.34494,
          1.3587,
          1.373819,
          1.364895,
          1.331515,
          1.309826,
          1.296095,
          1.287131,
          1.280783,
          1.27627,
          1.272676,
          1.269645,
          1.266823,
          1.264376,
          1.260873,
          1.258017,
          1.255825,
          1.254201,
          1.252197,
          1.250485,
          1.249116,
          1.247634,
          1.245911,
          1.244192,
          1.243115,
          1.242223,
          1.24136,
          1.240231,
          1.238685,
          1.237426,
          1.236444,
          1.235401,
          1.234332,
          1.233681,
          1.232983,
          1.232342,
          1.231426,
          1.23092,
          1.230324,
          1.229048,
          1.228488,
          1.227866,
          1.226611,
          1.225694,
          1.22531,
          1.225073,
          1.224402,
          1.223652,
          1.223259,
          1.222567,
          1.221925,
          1.221403,
          1.221121,
          1.22383,
          1.279545,
          1.352577,
          1.381329,
          1.380518,
          1.36522,
          1.33,
          1.294986,
          1.257835,
          1.199427,
          1.099304,
          1.042105,
          1.005808,
          0.980914,
          0.971201,
          0.976436,
          0.985308,
          0.983243,
          0.975886,
          0.950285,
          0.927154,
          0.915627,
          0.909608,
          0.90514,
          0.901717,
          0.898913,
          0.896009,
          0.892727,
          0.890581,
          0.888938,
          0.886984,
          0.885073,
          0.883253,
          0.881773,
          0.880697,
          0.879462,
          0.878058,
          0.876687,
          0.875685
         ]
        }
       ],
       "layout": {
        "autosize": false,
        "font": {
         "color": "Black",
         "family": "New Times Roman",
         "size": 30
        },
        "height": 1100,
        "legend": {
         "bordercolor": "black",
         "borderwidth": 1,
         "font": {
          "size": 16
         },
         "orientation": "h",
         "title": {},
         "x": 1,
         "xanchor": "right",
         "y": 1,
         "yanchor": "bottom"
        },
        "template": {
         "data": {
          "bar": [
           {
            "error_x": {
             "color": "rgb(36,36,36)"
            },
            "error_y": {
             "color": "rgb(36,36,36)"
            },
            "marker": {
             "line": {
              "color": "white",
              "width": 0.5
             },
             "pattern": {
              "fillmode": "overlay",
              "size": 10,
              "solidity": 0.2
             }
            },
            "type": "bar"
           }
          ],
          "barpolar": [
           {
            "marker": {
             "line": {
              "color": "white",
              "width": 0.5
             },
             "pattern": {
              "fillmode": "overlay",
              "size": 10,
              "solidity": 0.2
             }
            },
            "type": "barpolar"
           }
          ],
          "carpet": [
           {
            "aaxis": {
             "endlinecolor": "rgb(36,36,36)",
             "gridcolor": "white",
             "linecolor": "white",
             "minorgridcolor": "white",
             "startlinecolor": "rgb(36,36,36)"
            },
            "baxis": {
             "endlinecolor": "rgb(36,36,36)",
             "gridcolor": "white",
             "linecolor": "white",
             "minorgridcolor": "white",
             "startlinecolor": "rgb(36,36,36)"
            },
            "type": "carpet"
           }
          ],
          "choropleth": [
           {
            "colorbar": {
             "outlinewidth": 1,
             "tickcolor": "rgb(36,36,36)",
             "ticks": "outside"
            },
            "type": "choropleth"
           }
          ],
          "contour": [
           {
            "colorbar": {
             "outlinewidth": 1,
             "tickcolor": "rgb(36,36,36)",
             "ticks": "outside"
            },
            "colorscale": [
             [
              0,
              "#440154"
             ],
             [
              0.1111111111111111,
              "#482878"
             ],
             [
              0.2222222222222222,
              "#3e4989"
             ],
             [
              0.3333333333333333,
              "#31688e"
             ],
             [
              0.4444444444444444,
              "#26828e"
             ],
             [
              0.5555555555555556,
              "#1f9e89"
             ],
             [
              0.6666666666666666,
              "#35b779"
             ],
             [
              0.7777777777777778,
              "#6ece58"
             ],
             [
              0.8888888888888888,
              "#b5de2b"
             ],
             [
              1,
              "#fde725"
             ]
            ],
            "type": "contour"
           }
          ],
          "contourcarpet": [
           {
            "colorbar": {
             "outlinewidth": 1,
             "tickcolor": "rgb(36,36,36)",
             "ticks": "outside"
            },
            "type": "contourcarpet"
           }
          ],
          "heatmap": [
           {
            "colorbar": {
             "outlinewidth": 1,
             "tickcolor": "rgb(36,36,36)",
             "ticks": "outside"
            },
            "colorscale": [
             [
              0,
              "#440154"
             ],
             [
              0.1111111111111111,
              "#482878"
             ],
             [
              0.2222222222222222,
              "#3e4989"
             ],
             [
              0.3333333333333333,
              "#31688e"
             ],
             [
              0.4444444444444444,
              "#26828e"
             ],
             [
              0.5555555555555556,
              "#1f9e89"
             ],
             [
              0.6666666666666666,
              "#35b779"
             ],
             [
              0.7777777777777778,
              "#6ece58"
             ],
             [
              0.8888888888888888,
              "#b5de2b"
             ],
             [
              1,
              "#fde725"
             ]
            ],
            "type": "heatmap"
           }
          ],
          "heatmapgl": [
           {
            "colorbar": {
             "outlinewidth": 1,
             "tickcolor": "rgb(36,36,36)",
             "ticks": "outside"
            },
            "colorscale": [
             [
              0,
              "#440154"
             ],
             [
              0.1111111111111111,
              "#482878"
             ],
             [
              0.2222222222222222,
              "#3e4989"
             ],
             [
              0.3333333333333333,
              "#31688e"
             ],
             [
              0.4444444444444444,
              "#26828e"
             ],
             [
              0.5555555555555556,
              "#1f9e89"
             ],
             [
              0.6666666666666666,
              "#35b779"
             ],
             [
              0.7777777777777778,
              "#6ece58"
             ],
             [
              0.8888888888888888,
              "#b5de2b"
             ],
             [
              1,
              "#fde725"
             ]
            ],
            "type": "heatmapgl"
           }
          ],
          "histogram": [
           {
            "marker": {
             "line": {
              "color": "white",
              "width": 0.6
             }
            },
            "type": "histogram"
           }
          ],
          "histogram2d": [
           {
            "colorbar": {
             "outlinewidth": 1,
             "tickcolor": "rgb(36,36,36)",
             "ticks": "outside"
            },
            "colorscale": [
             [
              0,
              "#440154"
             ],
             [
              0.1111111111111111,
              "#482878"
             ],
             [
              0.2222222222222222,
              "#3e4989"
             ],
             [
              0.3333333333333333,
              "#31688e"
             ],
             [
              0.4444444444444444,
              "#26828e"
             ],
             [
              0.5555555555555556,
              "#1f9e89"
             ],
             [
              0.6666666666666666,
              "#35b779"
             ],
             [
              0.7777777777777778,
              "#6ece58"
             ],
             [
              0.8888888888888888,
              "#b5de2b"
             ],
             [
              1,
              "#fde725"
             ]
            ],
            "type": "histogram2d"
           }
          ],
          "histogram2dcontour": [
           {
            "colorbar": {
             "outlinewidth": 1,
             "tickcolor": "rgb(36,36,36)",
             "ticks": "outside"
            },
            "colorscale": [
             [
              0,
              "#440154"
             ],
             [
              0.1111111111111111,
              "#482878"
             ],
             [
              0.2222222222222222,
              "#3e4989"
             ],
             [
              0.3333333333333333,
              "#31688e"
             ],
             [
              0.4444444444444444,
              "#26828e"
             ],
             [
              0.5555555555555556,
              "#1f9e89"
             ],
             [
              0.6666666666666666,
              "#35b779"
             ],
             [
              0.7777777777777778,
              "#6ece58"
             ],
             [
              0.8888888888888888,
              "#b5de2b"
             ],
             [
              1,
              "#fde725"
             ]
            ],
            "type": "histogram2dcontour"
           }
          ],
          "mesh3d": [
           {
            "colorbar": {
             "outlinewidth": 1,
             "tickcolor": "rgb(36,36,36)",
             "ticks": "outside"
            },
            "type": "mesh3d"
           }
          ],
          "parcoords": [
           {
            "line": {
             "colorbar": {
              "outlinewidth": 1,
              "tickcolor": "rgb(36,36,36)",
              "ticks": "outside"
             }
            },
            "type": "parcoords"
           }
          ],
          "pie": [
           {
            "automargin": true,
            "type": "pie"
           }
          ],
          "scatter": [
           {
            "marker": {
             "colorbar": {
              "outlinewidth": 1,
              "tickcolor": "rgb(36,36,36)",
              "ticks": "outside"
             }
            },
            "type": "scatter"
           }
          ],
          "scatter3d": [
           {
            "line": {
             "colorbar": {
              "outlinewidth": 1,
              "tickcolor": "rgb(36,36,36)",
              "ticks": "outside"
             }
            },
            "marker": {
             "colorbar": {
              "outlinewidth": 1,
              "tickcolor": "rgb(36,36,36)",
              "ticks": "outside"
             }
            },
            "type": "scatter3d"
           }
          ],
          "scattercarpet": [
           {
            "marker": {
             "colorbar": {
              "outlinewidth": 1,
              "tickcolor": "rgb(36,36,36)",
              "ticks": "outside"
             }
            },
            "type": "scattercarpet"
           }
          ],
          "scattergeo": [
           {
            "marker": {
             "colorbar": {
              "outlinewidth": 1,
              "tickcolor": "rgb(36,36,36)",
              "ticks": "outside"
             }
            },
            "type": "scattergeo"
           }
          ],
          "scattergl": [
           {
            "marker": {
             "colorbar": {
              "outlinewidth": 1,
              "tickcolor": "rgb(36,36,36)",
              "ticks": "outside"
             }
            },
            "type": "scattergl"
           }
          ],
          "scattermapbox": [
           {
            "marker": {
             "colorbar": {
              "outlinewidth": 1,
              "tickcolor": "rgb(36,36,36)",
              "ticks": "outside"
             }
            },
            "type": "scattermapbox"
           }
          ],
          "scatterpolar": [
           {
            "marker": {
             "colorbar": {
              "outlinewidth": 1,
              "tickcolor": "rgb(36,36,36)",
              "ticks": "outside"
             }
            },
            "type": "scatterpolar"
           }
          ],
          "scatterpolargl": [
           {
            "marker": {
             "colorbar": {
              "outlinewidth": 1,
              "tickcolor": "rgb(36,36,36)",
              "ticks": "outside"
             }
            },
            "type": "scatterpolargl"
           }
          ],
          "scatterternary": [
           {
            "marker": {
             "colorbar": {
              "outlinewidth": 1,
              "tickcolor": "rgb(36,36,36)",
              "ticks": "outside"
             }
            },
            "type": "scatterternary"
           }
          ],
          "surface": [
           {
            "colorbar": {
             "outlinewidth": 1,
             "tickcolor": "rgb(36,36,36)",
             "ticks": "outside"
            },
            "colorscale": [
             [
              0,
              "#440154"
             ],
             [
              0.1111111111111111,
              "#482878"
             ],
             [
              0.2222222222222222,
              "#3e4989"
             ],
             [
              0.3333333333333333,
              "#31688e"
             ],
             [
              0.4444444444444444,
              "#26828e"
             ],
             [
              0.5555555555555556,
              "#1f9e89"
             ],
             [
              0.6666666666666666,
              "#35b779"
             ],
             [
              0.7777777777777778,
              "#6ece58"
             ],
             [
              0.8888888888888888,
              "#b5de2b"
             ],
             [
              1,
              "#fde725"
             ]
            ],
            "type": "surface"
           }
          ],
          "table": [
           {
            "cells": {
             "fill": {
              "color": "rgb(237,237,237)"
             },
             "line": {
              "color": "white"
             }
            },
            "header": {
             "fill": {
              "color": "rgb(217,217,217)"
             },
             "line": {
              "color": "white"
             }
            },
            "type": "table"
           }
          ]
         },
         "layout": {
          "annotationdefaults": {
           "arrowhead": 0,
           "arrowwidth": 1
          },
          "autotypenumbers": "strict",
          "coloraxis": {
           "colorbar": {
            "outlinewidth": 1,
            "tickcolor": "rgb(36,36,36)",
            "ticks": "outside"
           }
          },
          "colorscale": {
           "diverging": [
            [
             0,
             "rgb(103,0,31)"
            ],
            [
             0.1,
             "rgb(178,24,43)"
            ],
            [
             0.2,
             "rgb(214,96,77)"
            ],
            [
             0.3,
             "rgb(244,165,130)"
            ],
            [
             0.4,
             "rgb(253,219,199)"
            ],
            [
             0.5,
             "rgb(247,247,247)"
            ],
            [
             0.6,
             "rgb(209,229,240)"
            ],
            [
             0.7,
             "rgb(146,197,222)"
            ],
            [
             0.8,
             "rgb(67,147,195)"
            ],
            [
             0.9,
             "rgb(33,102,172)"
            ],
            [
             1,
             "rgb(5,48,97)"
            ]
           ],
           "sequential": [
            [
             0,
             "#440154"
            ],
            [
             0.1111111111111111,
             "#482878"
            ],
            [
             0.2222222222222222,
             "#3e4989"
            ],
            [
             0.3333333333333333,
             "#31688e"
            ],
            [
             0.4444444444444444,
             "#26828e"
            ],
            [
             0.5555555555555556,
             "#1f9e89"
            ],
            [
             0.6666666666666666,
             "#35b779"
            ],
            [
             0.7777777777777778,
             "#6ece58"
            ],
            [
             0.8888888888888888,
             "#b5de2b"
            ],
            [
             1,
             "#fde725"
            ]
           ],
           "sequentialminus": [
            [
             0,
             "#440154"
            ],
            [
             0.1111111111111111,
             "#482878"
            ],
            [
             0.2222222222222222,
             "#3e4989"
            ],
            [
             0.3333333333333333,
             "#31688e"
            ],
            [
             0.4444444444444444,
             "#26828e"
            ],
            [
             0.5555555555555556,
             "#1f9e89"
            ],
            [
             0.6666666666666666,
             "#35b779"
            ],
            [
             0.7777777777777778,
             "#6ece58"
            ],
            [
             0.8888888888888888,
             "#b5de2b"
            ],
            [
             1,
             "#fde725"
            ]
           ]
          },
          "colorway": [
           "#1F77B4",
           "#FF7F0E",
           "#2CA02C",
           "#D62728",
           "#9467BD",
           "#8C564B",
           "#E377C2",
           "#7F7F7F",
           "#BCBD22",
           "#17BECF"
          ],
          "font": {
           "color": "rgb(36,36,36)"
          },
          "geo": {
           "bgcolor": "white",
           "lakecolor": "white",
           "landcolor": "white",
           "showlakes": true,
           "showland": true,
           "subunitcolor": "white"
          },
          "hoverlabel": {
           "align": "left"
          },
          "hovermode": "closest",
          "mapbox": {
           "style": "light"
          },
          "paper_bgcolor": "white",
          "plot_bgcolor": "white",
          "polar": {
           "angularaxis": {
            "gridcolor": "rgb(232,232,232)",
            "linecolor": "rgb(36,36,36)",
            "showgrid": false,
            "showline": true,
            "ticks": "outside"
           },
           "bgcolor": "white",
           "radialaxis": {
            "gridcolor": "rgb(232,232,232)",
            "linecolor": "rgb(36,36,36)",
            "showgrid": false,
            "showline": true,
            "ticks": "outside"
           }
          },
          "scene": {
           "xaxis": {
            "backgroundcolor": "white",
            "gridcolor": "rgb(232,232,232)",
            "gridwidth": 2,
            "linecolor": "rgb(36,36,36)",
            "showbackground": true,
            "showgrid": false,
            "showline": true,
            "ticks": "outside",
            "zeroline": false,
            "zerolinecolor": "rgb(36,36,36)"
           },
           "yaxis": {
            "backgroundcolor": "white",
            "gridcolor": "rgb(232,232,232)",
            "gridwidth": 2,
            "linecolor": "rgb(36,36,36)",
            "showbackground": true,
            "showgrid": false,
            "showline": true,
            "ticks": "outside",
            "zeroline": false,
            "zerolinecolor": "rgb(36,36,36)"
           },
           "zaxis": {
            "backgroundcolor": "white",
            "gridcolor": "rgb(232,232,232)",
            "gridwidth": 2,
            "linecolor": "rgb(36,36,36)",
            "showbackground": true,
            "showgrid": false,
            "showline": true,
            "ticks": "outside",
            "zeroline": false,
            "zerolinecolor": "rgb(36,36,36)"
           }
          },
          "shapedefaults": {
           "fillcolor": "black",
           "line": {
            "width": 0
           },
           "opacity": 0.3
          },
          "ternary": {
           "aaxis": {
            "gridcolor": "rgb(232,232,232)",
            "linecolor": "rgb(36,36,36)",
            "showgrid": false,
            "showline": true,
            "ticks": "outside"
           },
           "baxis": {
            "gridcolor": "rgb(232,232,232)",
            "linecolor": "rgb(36,36,36)",
            "showgrid": false,
            "showline": true,
            "ticks": "outside"
           },
           "bgcolor": "white",
           "caxis": {
            "gridcolor": "rgb(232,232,232)",
            "linecolor": "rgb(36,36,36)",
            "showgrid": false,
            "showline": true,
            "ticks": "outside"
           }
          },
          "title": {
           "x": 0.05
          },
          "xaxis": {
           "automargin": true,
           "gridcolor": "rgb(232,232,232)",
           "linecolor": "rgb(36,36,36)",
           "showgrid": false,
           "showline": true,
           "ticks": "outside",
           "title": {
            "standoff": 15
           },
           "zeroline": false,
           "zerolinecolor": "rgb(36,36,36)"
          },
          "yaxis": {
           "automargin": true,
           "gridcolor": "rgb(232,232,232)",
           "linecolor": "rgb(36,36,36)",
           "showgrid": false,
           "showline": true,
           "ticks": "outside",
           "title": {
            "standoff": 15
           },
           "zeroline": false,
           "zerolinecolor": "rgb(36,36,36)"
          }
         }
        },
        "title": {
         "text": "PB10 -BRZ"
        },
        "width": 900,
        "xaxis": {
         "range": [
          0,
          0.6
         ],
         "showgrid": true,
         "title": {
          "text": "Strain (-)"
         }
        },
        "yaxis": {
         "range": [
          0,
          290
         ],
         "showgrid": true,
         "title": {
          "text": "Stress (MPa)"
         }
        }
       }
      }
     },
     "metadata": {},
     "output_type": "display_data"
    }
   ],
   "source": [
    "# ### PLOTTING\n",
    "# ## Plot the data\n",
    "fig = go.Figure()\n",
    "fig.add_trace(go.Scatter(x=strain1, y=stress1))\n",
    "\n",
    "# fig.add_annotation(x=x, y=y,\n",
    "#             text=\"Strain={:.4f}, Stress={:.4f}\".format(x, y),\n",
    "#             showarrow=True,\n",
    "#             xanchor=\"right\",\n",
    "#             arrowhead=1)\n",
    "\n",
    "# fig.add_annotation(x=x, y=0,\n",
    "#             text=TensileS,\n",
    "#             showarrow=False,\n",
    "#             arrowhead=1)\n",
    "\n",
    "fig.update_layout(\n",
    "    yaxis=dict(range=[0, 290]),\n",
    "    xaxis=dict(range=[0, 0.6]), \n",
    "    template=\"simple_white\", autosize=False, width=900, height=1100,\n",
    "    title=\"PB10 -BRZ\",\n",
    "    xaxis_title=\"Strain (-)\",\n",
    "    yaxis_title=\"Stress (MPa)\",\n",
    "    font=dict(\n",
    "        family=\"New Times Roman\",\n",
    "        size=30,\n",
    "        color=\"Black\"\n",
    "    ),\n",
    "    legend=dict(title=None, orientation='h', y=1, yanchor=\"bottom\", x=1, xanchor=\"right\", font=dict(size = 16), bordercolor='black', borderwidth=1)\n",
    ")\n",
    "\n",
    "fig.update_yaxes(showgrid=True)\n",
    "fig.update_xaxes(showgrid=True)\n",
    "\n",
    "fig.show()\n",
    "# plt.plot(strain1, stress1, color='black')\n",
    "\n",
    "# ### Plot text, box, arrow and dot\n",
    "# text= \"x={:.4f}, y={:.4f}\".format(x, y)                                                                  # Create the text for the peak\n",
    "\n",
    "# bbox_props = dict(boxstyle=\"square,pad=0.3\", fc=\"w\", ec=\"k\", lw=0.72)\n",
    "\n",
    "# arrowprops=dict(arrowstyle=\"->\",connectionstyle=\"angle,angleA=90,angleB=0\")\n",
    "\n",
    "# kw = dict(xycoords='data',textcoords=\"axes fraction\",\n",
    "#               arrowprops=arrowprops, bbox=bbox_props, ha=\"right\", va=\"center\")\n",
    "\n",
    "# plt.annotate(text, xy=(x, y), xytext=(0.8,0.95), **kw)\n",
    "\n",
    "\n",
    "# ## Plot the dot\n",
    "# plt.plot(x, y, marker=\"o\", markersize=4, markeredgecolor=\"b\", markerfacecolor=\"b\")\n",
    "\n",
    "\n",
    "# plt.title('PB7_BRZ Test')\n",
    "# plt.xlabel('Average LVDTs [-]')\n",
    "# plt.ylabel('Load 50 [kN]')\n",
    "\n",
    "# plt.text(0.16, 0.02, TensileS, {'color': 'C0', 'fontsize': 8})\n",
    "\n",
    "# plt.show()"
   ]
  }
 ],
 "metadata": {
  "kernelspec": {
   "display_name": "Python 3.10.2 ('venv': venv)",
   "language": "python",
   "name": "python3"
  },
  "language_info": {
   "codemirror_mode": {
    "name": "ipython",
    "version": 3
   },
   "file_extension": ".py",
   "mimetype": "text/x-python",
   "name": "python",
   "nbconvert_exporter": "python",
   "pygments_lexer": "ipython3",
   "version": "3.10.2"
  },
  "orig_nbformat": 4,
  "vscode": {
   "interpreter": {
    "hash": "fcefa6c7acbe2576240af7974735b60a2e2666baf1a6c5568522f717d4438b0f"
   }
  }
 },
 "nbformat": 4,
 "nbformat_minor": 2
}
